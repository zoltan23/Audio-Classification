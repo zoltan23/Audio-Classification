{
 "cells": [
  {
   "cell_type": "markdown",
   "metadata": {
    "colab_type": "text",
    "id": "view-in-github"
   },
   "source": [
    "<a href=\"https://colab.research.google.com/github/zoltan23/Audio-Classification/blob/master/spectrograms.ipynb\" target=\"_parent\"><img src=\"https://colab.research.google.com/assets/colab-badge.svg\" alt=\"Open In Colab\"/></a>"
   ]
  },
  {
   "cell_type": "markdown",
   "metadata": {
    "colab_type": "text",
    "id": "2IfwjHQF4pg6"
   },
   "source": [
    "This following cell mounts Google Colabs to your Google Drive."
   ]
  },
  {
   "cell_type": "code",
   "execution_count": null,
   "metadata": {
    "colab": {},
    "colab_type": "code",
    "id": "21XQVMOHqnkI"
   },
   "outputs": [],
   "source": [
    "from google.colab import drive\n",
    "drive.mount('/content/gdrive')"
   ]
  },
  {
   "cell_type": "markdown",
   "metadata": {
    "colab_type": "text",
    "id": "msojV9qW4_he"
   },
   "source": [
    "We will create a working directory called Audio-Classification. "
   ]
  },
  {
   "cell_type": "code",
   "execution_count": null,
   "metadata": {
    "colab": {},
    "colab_type": "code",
    "id": "7ZPxCrTb5PxD"
   },
   "outputs": [],
   "source": [
    "import os\n",
    "os.chdir('/content/gdrive/My Drive/')\n",
    "!mkdir Audio-Classification"
   ]
  },
  {
   "cell_type": "markdown",
   "metadata": {
    "colab_type": "text",
    "id": "9ETd21pI7GC-"
   },
   "source": [
    "Now we will create all of the subdirectories that will store the cleaned wave files, the model, a pickle folder for the serialized objects and the wavfiles that will be downloaded from Github. "
   ]
  },
  {
   "cell_type": "code",
   "execution_count": null,
   "metadata": {
    "colab": {},
    "colab_type": "code",
    "id": "cnb2qWl-sj9E"
   },
   "outputs": [],
   "source": [
    "os.chdir('/content/gdrive/My Drive/Audio-Classification')\n",
    "!mkdir clean samples model pickles wavfiles"
   ]
  },
  {
   "cell_type": "code",
   "execution_count": null,
   "metadata": {
    "colab": {},
    "colab_type": "code",
    "id": "RxBR0lqFk5lx"
   },
   "outputs": [],
   "source": [
    "!cd wavfiles\n",
    "if len(os.getcwd()) == 0:\n",
    "  !git clone https://github.com/seth814/Audio-Classification.git\n",
    "  print(\"good\")"
   ]
  },
  {
   "cell_type": "code",
   "execution_count": null,
   "metadata": {
    "colab": {},
    "colab_type": "code",
    "id": "im7KWQ2vk32d"
   },
   "outputs": [],
   "source": [
    "!pip install python_speech_features\n",
    "from scipy.io import wavfile\n",
    "import pandas as pd\n",
    "import matplotlib.pyplot as plt\n",
    "import numpy as np\n",
    "from keras.layers import Conv2D, MaxPool2D, Flatten, LSTM\n",
    "from keras.layers import Dropout, Dense, TimeDistributed\n",
    "from keras.models import Sequential\n",
    "from keras.utils import to_categorical\n",
    "from sklearn.utils.class_weight import compute_class_weight\n",
    "from tqdm import tqdm\n",
    "from python_speech_features import mfcc, logfbank\n",
    "import librosa\n",
    "\n",
    "def plot_signals(signals):\n",
    "    fig, axes = plt.subplots(nrows=2, ncols=5, sharex=False,\n",
    "                             sharey=True, figsize=(20,5))\n",
    "    fig.suptitle('Time Series', size=16)\n",
    "    i = 0\n",
    "    for x in range(2):\n",
    "        for y in range(5):\n",
    "            axes[x,y].set_title(list(signals.keys())[i])\n",
    "            axes[x,y].plot(list(signals.values())[i])\n",
    "            axes[x,y].get_xaxis().set_visible(False)\n",
    "            axes[x,y].get_yaxis().set_visible(False)\n",
    "            i += 1\n",
    "\n",
    "def plot_fft(fft):\n",
    "    fig, axes = plt.subplots(nrows=2, ncols=5, sharex=False,\n",
    "                             sharey=True, figsize=(20,5))\n",
    "    fig.suptitle('Fourier Transforms', size=16)\n",
    "    i = 0\n",
    "    for x in range(2):\n",
    "        for y in range(5):\n",
    "            data = list(fft.values())[i]\n",
    "            Y, freq = data[0], data[1]\n",
    "            axes[x,y].set_title(list(fft.keys())[i])\n",
    "            axes[x,y].plot(freq, Y)\n",
    "            axes[x,y].get_xaxis().set_visible(False)\n",
    "            axes[x,y].get_yaxis().set_visible(False)\n",
    "            i += 1\n",
    "\n",
    "def plot_fbank(fbank):\n",
    "    fig, axes = plt.subplots(nrows=2, ncols=5, sharex=False,\n",
    "                             sharey=True, figsize=(20,5))\n",
    "    fig.suptitle('Filter Bank Coefficients', size=16)\n",
    "    i = 0\n",
    "    for x in range(2):\n",
    "        for y in range(5):\n",
    "            axes[x,y].set_title(list(fbank.keys())[i])\n",
    "            axes[x,y].imshow(list(fbank.values())[i],\n",
    "                    cmap='hot', interpolation='nearest')\n",
    "            axes[x,y].get_xaxis().set_visible(False)\n",
    "            axes[x,y].get_yaxis().set_visible(False)\n",
    "            i += 1\n",
    "\n",
    "def plot_mfccs(mfccs):\n",
    "    fig, axes = plt.subplots(nrows=2, ncols=5, sharex=False,\n",
    "                             sharey=True, figsize=(20,5))\n",
    "    fig.suptitle('Mel Frequency Cepstrum Coefficients', size=16)\n",
    "    i = 0\n",
    "    for x in range(2):\n",
    "        for y in range(5):\n",
    "            axes[x,y].set_title(list(mfccs.keys())[i])\n",
    "            axes[x,y].imshow(list(mfccs.values())[i],\n",
    "                    cmap='hot', interpolation='nearest')\n",
    "            axes[x,y].get_xaxis().set_visible(False)\n",
    "            axes[x,y].get_yaxis().set_visible(False)\n",
    "            i += 1\n",
    "            \n",
    "def envelope(y, rate, threshold):\n",
    "  mask = []\n",
    "  y = pd.Series(y).apply(np.abs)\n",
    "  y_mean = y.rolling(window=int(rate/10), min_periods=1, center=True).mean()\n",
    "  for mean in y_mean:\n",
    "    if mean > threshold:\n",
    "      mask.append(True)\n",
    "    else:\n",
    "      mask.append(False)\n",
    "  return mask\n",
    "     \n",
    "\n",
    "def calc_fft(y, rate):\n",
    "  n = len(y)\n",
    "  freq = np.fft.rfftfreq(n, d=1/rate)\n",
    "  Y = abs(np.fft.rfft(y)/n)\n",
    "  return (Y, freq)\n",
    "            \n",
    "df = pd.read_csv('instruments.csv')\n",
    "df.set_index('fname', inplace=True)\n",
    "\n",
    "\n",
    "for f in df.index:\n",
    "  rate, signal = wavfile.read('wavfiles/' +f)\n",
    "  df.at[f, 'length'] = signal.shape[0]/rate\n",
    "\n",
    "classes = list(np.unique(df.label))\n",
    "class_dist = df.groupby(['label'])['length'].mean()\n",
    "  \n",
    "fig, ax =plt.subplots()\n",
    "ax.set_title('Class Distribution', y=1.08)\n",
    "ax.pie(class_dist, labels=class_dist.index, autopct='%1.1f%%',\n",
    "      shadow=False, startangle=90)\n",
    "ax.axis('equal')\n",
    "plt.show()\n",
    "df.reset_index(inplace=True)\n",
    "\n",
    "#dictionaries\n",
    "signals = {}\n",
    "fft = {}\n",
    "fbank = {}\n",
    "mfccs = {}\n",
    "\n",
    "for c in classes:\n",
    "  wav_file = df[df.label == c].iloc[0,0]\n",
    "  signal, rate = librosa.load('wavfiles/' + wav_file, sr=44100)\n",
    "  mask = envelope(signal, rate, 0.0005)\n",
    "  signal = signal[mask]\n",
    "  signals[c] = signal\n",
    "  fft[c] = calc_fft(signal, rate)\n",
    "  \n",
    "  bank = logfbank(signal[:rate], rate, nfilt = 26, nfft = 1103).T\n",
    "  #filter bank\n",
    "  fbank[c] = bank\n",
    "  mel = mfcc(signal[:rate], rate, numcep=13, nfilt=26, nfft= 1103).T\n",
    "  mfccs[c] = mel\n",
    "                    \n",
    "plot_signals(signals)\n",
    "plt.show()\n",
    "                    \n",
    "plot_fft(fft)\n",
    "plt.show()\n",
    "\n",
    "plot_fbank(fbank)\n",
    "plt.show()                    \n",
    "\n",
    "plot_mfccs(mfccs)\n",
    "plt.show() \n",
    "\n",
    "if(len(os.listdir('clean/')) == 0):\n",
    "  for f in tqdm(df.fname):\n",
    "    signal, rate = librosa.load('wavfiles/' +f, sr=16000)\n",
    "    mask = envelope(signal, rate, 0.0005)\n",
    "    wavfile.write(filename='clean/' +f, rate=rate, data=signal[mask])"
   ]
  }
 ],
 "metadata": {
  "colab": {
   "collapsed_sections": [],
   "include_colab_link": true,
   "name": "spectrograms.ipynb",
   "provenance": []
  },
  "kernelspec": {
   "display_name": "Python 3",
   "language": "python",
   "name": "python3"
  },
  "language_info": {
   "codemirror_mode": {
    "name": "ipython",
    "version": 3
   },
   "file_extension": ".py",
   "mimetype": "text/x-python",
   "name": "python",
   "nbconvert_exporter": "python",
   "pygments_lexer": "ipython3",
   "version": "3.8.2"
  }
 },
 "nbformat": 4,
 "nbformat_minor": 1
}
