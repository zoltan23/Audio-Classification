{
  "nbformat": 4,
  "nbformat_minor": 0,
  "metadata": {
    "kernelspec": {
      "display_name": "Python 3",
      "language": "python",
      "name": "python3"
    },
    "language_info": {
      "codemirror_mode": {
        "name": "ipython",
        "version": 3
      },
      "file_extension": ".py",
      "mimetype": "text/x-python",
      "name": "python",
      "nbconvert_exporter": "python",
      "pygments_lexer": "ipython3",
      "version": "3.6.8"
    },
    "colab": {
      "name": "audio_classification.ipynb",
      "provenance": [],
      "collapsed_sections": [],
      "include_colab_link": true
    }
  },
  "cells": [
    {
      "cell_type": "markdown",
      "metadata": {
        "id": "view-in-github",
        "colab_type": "text"
      },
      "source": [
        "<a href=\"https://colab.research.google.com/github/zoltan23/Audio-Classification/blob/master/audio_classification.ipynb\" target=\"_parent\"><img src=\"https://colab.research.google.com/assets/colab-badge.svg\" alt=\"Open In Colab\"/></a>"
      ]
    },
    {
      "cell_type": "code",
      "metadata": {
        "id": "wHalG5gdeCWC",
        "colab_type": "code",
        "colab": {}
      },
      "source": [
        "!pip install python_speech_features\n",
        "!pip install scipy\n",
        "!pip install pandas\n",
        "!pip install keras\n",
        "!pip install sklearn\n",
        "!pip install tqdm\n",
        "!pip install librosa\n",
        "!apt-get install libsndfile1 -y\n",
        "!apt-get install git -y"
      ],
      "execution_count": null,
      "outputs": []
    },
    {
      "cell_type": "code",
      "metadata": {
        "id": "nIVe0ORuiHyt",
        "colab_type": "code",
        "colab": {}
      },
      "source": [
        "from google.colab import drive\n",
        "drive.mount('/content/gdrive')"
      ],
      "execution_count": null,
      "outputs": []
    },
    {
      "cell_type": "code",
      "metadata": {
        "id": "GWOulvQGi8cW",
        "colab_type": "code",
        "colab": {}
      },
      "source": [
        "import os\n",
        "os.chdir('/content/gdrive/My Drive/music-wav-files')"
      ],
      "execution_count": null,
      "outputs": []
    },
    {
      "cell_type": "code",
      "metadata": {
        "id": "DjASVfB_h9_z",
        "colab_type": "code",
        "colab": {}
      },
      "source": [
        "!mkdir clean samples models"
      ],
      "execution_count": null,
      "outputs": []
    },
    {
      "cell_type": "code",
      "metadata": {
        "id": "JZP8e54UeCWK",
        "colab_type": "code",
        "colab": {}
      },
      "source": [
        "import matplotlib.pyplot as plt\n",
        "import pandas as pd\n",
        "import os\n",
        "import librosa\n",
        "import librosa.display\n",
        "from sklearn.model_selection import train_test_split\n",
        "from sklearn.preprocessing import LabelEncoder\n",
        "from keras.utils import to_categorical\n",
        "from scipy.io import wavfile as wav\n",
        "import numpy as np\n",
        "\n",
        "from datetime import datetime\n",
        "from keras.models import Sequential, load_model\n",
        "from keras.layers import Dense, Dropout, Activation, Flatten\n",
        "from keras.layers import Convolution2D, MaxPooling2D\n",
        "from keras.callbacks import ModelCheckpoint\n",
        "from keras.optimizers import Adam\n",
        "from keras.utils import np_utils\n",
        "from sklearn import metrics"
      ],
      "execution_count": null,
      "outputs": []
    },
    {
      "cell_type": "code",
      "metadata": {
        "id": "Em3EH9FlujOA",
        "colab_type": "code",
        "colab": {}
      },
      "source": [
        "def extract_features(file_name):\n",
        "\n",
        "    try:\n",
        "        audio, sample_rate = librosa.load(file_name, res_type='kaiser_fast') \n",
        "\n",
        "        mask = envelope(audio, sample_rate, 0.0005)\n",
        "\n",
        "        mfccs = librosa.feature.mfcc(y=audio[mask], sr=sample_rate, n_mfcc=40)\n",
        "        mfccsscaled = np.mean(mfccs.T,axis=0)\n",
        "\n",
        "        #print(\"mfccsscaled\", mfccsscaled.shape)\n",
        "    \n",
        "    except Exception as e:\n",
        "        print(\"Error encountered while parsing file: \", file_name)\n",
        "        return None \n",
        "    \n",
        "    return mfccsscaled\n",
        "\n",
        "def envelope(y, rate, threshold):\n",
        "    mask = []\n",
        "    y = pd.Series(y).apply(np.abs)\n",
        "    y_mean = y.rolling(window=int(rate/10), min_periods=1, center=True).mean()\n",
        "    for mean in y_mean:\n",
        "        if mean > threshold:\n",
        "            mask.append(True)\n",
        "        else:\n",
        "            mask.append(False)\n",
        "    return mask"
      ],
      "execution_count": null,
      "outputs": []
    },
    {
      "cell_type": "code",
      "metadata": {
        "id": "rsRSDpvOu1iw",
        "colab_type": "code",
        "colab": {}
      },
      "source": [
        ""
      ],
      "execution_count": null,
      "outputs": []
    },
    {
      "cell_type": "code",
      "metadata": {
        "id": "GYVFcvZPvYhF",
        "colab_type": "code",
        "colab": {}
      },
      "source": [
        "file_name = os.path.join(os.path.abspath(fulldatasetpath), str(row[\"fname\"]))\n",
        "class_label = row[\"label\"]\n",
        "data = extract_features('wavfiles/5eadbc6d.wav')\n"
      ],
      "execution_count": null,
      "outputs": []
    },
    {
      "cell_type": "code",
      "metadata": {
        "id": "g2A-ZVPuujj-",
        "colab_type": "code",
        "colab": {}
      },
      "source": [
        "!ls "
      ],
      "execution_count": null,
      "outputs": []
    },
    {
      "cell_type": "markdown",
      "metadata": {
        "id": "pLwC6kzQeCWQ",
        "colab_type": "text"
      },
      "source": [
        "# The following code was extracted from a module that was created to train a CNN model.  It will be called to retrain the model to improve accuracy as more data becomes available from the app.  "
      ]
    },
    {
      "cell_type": "code",
      "metadata": {
        "id": "0CjxI98keCWR",
        "colab_type": "code",
        "colab": {}
      },
      "source": [
        "fulldatasetpath = 'wavfiles/'\n",
        "\n",
        "metadata = pd.read_csv('instruments.csv')\n",
        "\n",
        "features = []\n",
        "\n",
        "# Iterate through each sound file and extract the features \n",
        "for index, row in metadata.iterrows():\n",
        "\n",
        "    file_name = os.path.join(os.path.abspath(fulldatasetpath), str(row[\"fname\"]))\n",
        "\n",
        "    class_label = row[\"label\"]\n",
        "    data = extract_features(file_name)\n",
        "    features.append([data, class_label])\n",
        "\n",
        "    # Convert into a Panda dataframe \n",
        "    featuresdf = pd.DataFrame(features, columns=['feature','class_label'])\n",
        "\n",
        "    #print('Finished feature extraction from ', len(featuresdf), ' files') \n",
        "\n",
        "\n",
        "# Convert features and corresponding classification labels into numpy arrays\n",
        "X = np.array(featuresdf.feature.tolist())\n",
        "y = np.array(featuresdf.class_label.tolist())\n",
        "\n",
        "# Encode the classification labels\n",
        "le = LabelEncoder()\n",
        "yy = to_categorical(le.fit_transform(y))\n",
        "\n",
        "# split the dataset \n",
        "x_train, x_test, y_train, y_test = train_test_split(X, yy, test_size=0.2, random_state = 42)\n",
        "\n",
        "num_labels = yy.shape[1]\n",
        "print(\"num_labels\", num_labels)\n",
        "filter_size = 2\n",
        "\n",
        "model = Sequential()\n",
        "model.add(Dense(256, input_shape=(40,)))\n",
        "model.add(Dense(256, activation='relu'))\n",
        "model.add(Dense(256, activation='relu'))\n",
        "model.add(Dense(256, activation='relu'))\n",
        "model.add(Dense(num_labels, activation='softmax'))\n",
        "\n",
        "# Compile the model\n",
        "model.compile(loss='categorical_crossentropy', metrics=['accuracy'], optimizer='adam') \n",
        "\n",
        "# Display model architecture summary \n",
        "model.summary()\n",
        "\n",
        "# Calculate pre-training accuracy \n",
        "score = model.evaluate(x_test, y_test, verbose=0)\n",
        "accuracy = 100*score[1]\n",
        "\n",
        "print(\"Pre-training accuracy: %.4f%%\" % accuracy)\n",
        "\n",
        "num_epochs = 15\n",
        "num_batch_size = 8\n",
        "\n",
        "start = datetime.now()\n",
        "\n",
        "#callbacks=[checkpointer],\n",
        "model.fit(x_train, y_train, batch_size=num_batch_size, epochs=num_epochs, validation_data=(x_test, y_test),  verbose=1)\n",
        "model.save('models/model4.h5')\n",
        "\n",
        "duration = datetime.now() - start\n",
        "print(\"Training completed in time: \", duration)\n",
        "\n",
        "# Evaluating the model on the training and testing set\n",
        "score = model.evaluate(x_train, y_train, verbose=0)\n",
        "print(\"Training Accuracy: \", score[1])\n",
        "\n",
        "score = model.evaluate(x_test, y_test, verbose=0)\n",
        "print(\"Testing Accuracy: \", score[1])"
      ],
      "execution_count": null,
      "outputs": []
    },
    {
      "cell_type": "code",
      "metadata": {
        "id": "QqyPXU1UeCWU",
        "colab_type": "code",
        "colab": {}
      },
      "source": [
        "def classify(filename):\n",
        "    \n",
        "    model = load_model('models/model4.h5')\n",
        "\n",
        "    def extract_feature(file_name):\n",
        "   \n",
        "        try:\n",
        "            audio_data, sample_rate = librosa.load(file_name, res_type='kaiser_fast') \n",
        "            mfccs = librosa.feature.mfcc(y=audio_data, sr=sample_rate, n_mfcc=40)\n",
        "            mfccsscaled = np.mean(mfccs.T,axis=0)\n",
        "            \n",
        "        except Exception as e:\n",
        "            print(\"Error encountered while parsing file: \", file_name)\n",
        "            return None, None\n",
        "        return np.array([mfccsscaled])\n",
        "\n",
        "    #Get class labels for predicted_instrument output\n",
        "    le = LabelEncoder()\n",
        "    metadata = pd.read_csv('instruments.csv')\n",
        "    le.fit(metadata['label'])\n",
        "\n",
        "    def print_prediction(file_name):\n",
        "  \n",
        "        prediction_feature = extract_feature(file_name) \n",
        "\n",
        "        predicted_vector = model.predict_classes(prediction_feature)\n",
        "        #print(\"predicted_vector\", predicted_vector)\n",
        "\n",
        "        predicted_class = le.inverse_transform(predicted_vector)\n",
        "        predicted_instrument = predicted_class[0]\n",
        "        #print(\"The predicted class is:\", predicted_class[0], '\\n') \n",
        "\n",
        "        predicted_proba_vector = model.predict_proba(prediction_feature) \n",
        "        predicted_proba = predicted_proba_vector[0]\n",
        "        for i in range(len(predicted_proba)):\n",
        "            category = le.inverse_transform(np.array([i]))\n",
        "            #print(category[0], \"\\t\\t : \", format(predicted_proba[i], '.32f') )\n",
        "            \n",
        "        return predicted_instrument\n",
        "    \n",
        "    return print_prediction(filename)\n",
        "    \n"
      ],
      "execution_count": null,
      "outputs": []
    },
    {
      "cell_type": "markdown",
      "metadata": {
        "id": "9lQi3a9jeCWc",
        "colab_type": "text"
      },
      "source": [
        "# The following function takes a wave file and its instrument classification as inputs and will predict its classification."
      ]
    },
    {
      "cell_type": "code",
      "metadata": {
        "id": "UxMdAf7JeCWd",
        "colab_type": "code",
        "colab": {}
      },
      "source": [
        "def predictedInstrumentTest(filename, instrument):\n",
        "\n",
        "    predicted_instrument = classify(filename)\n",
        "    print(\"The predicted instrument is\", predicted_instrument, \". The actual instrument is\", instrument, \".\")\n",
        "    if (instrument.strip() == predicted_instrument.strip()):\n",
        "        print(\"Test passed!!!\")\n",
        "    else:\n",
        "        print(\"Test Failed\")"
      ],
      "execution_count": null,
      "outputs": []
    },
    {
      "cell_type": "code",
      "metadata": {
        "id": "8mIkD6ePeCWi",
        "colab_type": "code",
        "colab": {}
      },
      "source": [
        "for file_name in os.listdir('trumpets'):\n",
        "  predictedInstrumentTest('trumpets/' + file_name, 'trumpet')"
      ],
      "execution_count": null,
      "outputs": []
    }
  ]
}