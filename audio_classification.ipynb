{
  "nbformat": 4,
  "nbformat_minor": 0,
  "metadata": {
    "kernelspec": {
      "display_name": "Python 3",
      "language": "python",
      "name": "python3"
    },
    "language_info": {
      "codemirror_mode": {
        "name": "ipython",
        "version": 3
      },
      "file_extension": ".py",
      "mimetype": "text/x-python",
      "name": "python",
      "nbconvert_exporter": "python",
      "pygments_lexer": "ipython3",
      "version": "3.6.8"
    },
    "colab": {
      "name": "audio_classification.ipynb",
      "provenance": [],
      "collapsed_sections": [],
      "include_colab_link": true
    }
  },
  "cells": [
    {
      "cell_type": "markdown",
      "metadata": {
        "id": "view-in-github",
        "colab_type": "text"
      },
      "source": [
        "<a href=\"https://colab.research.google.com/github/zoltan23/Audio-Classification/blob/master/audio_classification.ipynb\" target=\"_parent\"><img src=\"https://colab.research.google.com/assets/colab-badge.svg\" alt=\"Open In Colab\"/></a>"
      ]
    },
    {
      "cell_type": "code",
      "metadata": {
        "id": "wHalG5gdeCWC",
        "colab_type": "code",
        "colab": {
          "base_uri": "https://localhost:8080/",
          "height": 1000
        },
        "outputId": "5c167bd4-166f-4559-df0b-e4af355ec527"
      },
      "source": [
        "!pip install python_speech_features\n",
        "!pip install scipy\n",
        "!pip install pandas\n",
        "!pip install keras\n",
        "!pip install sklearn\n",
        "!pip install tqdm\n",
        "!pip install librosa\n",
        "!apt-get install libsndfile1 -y\n",
        "!apt-get install git -y"
      ],
      "execution_count": null,
      "outputs": [
        {
          "output_type": "stream",
          "text": [
            "Collecting python_speech_features\n",
            "  Downloading https://files.pythonhosted.org/packages/ff/d1/94c59e20a2631985fbd2124c45177abaa9e0a4eee8ba8a305aa26fc02a8e/python_speech_features-0.6.tar.gz\n",
            "Building wheels for collected packages: python-speech-features\n",
            "  Building wheel for python-speech-features (setup.py) ... \u001b[?25l\u001b[?25hdone\n",
            "  Created wheel for python-speech-features: filename=python_speech_features-0.6-cp36-none-any.whl size=5887 sha256=2eb16b2c1c605eb5d042225389f5872189c624171142476b96cdfa5c65822816\n",
            "  Stored in directory: /root/.cache/pip/wheels/3c/42/7c/f60e9d1b40015cd69b213ad90f7c18a9264cd745b9888134be\n",
            "Successfully built python-speech-features\n",
            "Installing collected packages: python-speech-features\n",
            "Successfully installed python-speech-features-0.6\n",
            "Requirement already satisfied: scipy in /usr/local/lib/python3.6/dist-packages (1.4.1)\n",
            "Requirement already satisfied: numpy>=1.13.3 in /usr/local/lib/python3.6/dist-packages (from scipy) (1.18.5)\n",
            "Requirement already satisfied: pandas in /usr/local/lib/python3.6/dist-packages (1.0.5)\n",
            "Requirement already satisfied: numpy>=1.13.3 in /usr/local/lib/python3.6/dist-packages (from pandas) (1.18.5)\n",
            "Requirement already satisfied: python-dateutil>=2.6.1 in /usr/local/lib/python3.6/dist-packages (from pandas) (2.8.1)\n",
            "Requirement already satisfied: pytz>=2017.2 in /usr/local/lib/python3.6/dist-packages (from pandas) (2018.9)\n",
            "Requirement already satisfied: six>=1.5 in /usr/local/lib/python3.6/dist-packages (from python-dateutil>=2.6.1->pandas) (1.12.0)\n",
            "Requirement already satisfied: keras in /usr/local/lib/python3.6/dist-packages (2.3.1)\n",
            "Requirement already satisfied: pyyaml in /usr/local/lib/python3.6/dist-packages (from keras) (3.13)\n",
            "Requirement already satisfied: six>=1.9.0 in /usr/local/lib/python3.6/dist-packages (from keras) (1.12.0)\n",
            "Requirement already satisfied: h5py in /usr/local/lib/python3.6/dist-packages (from keras) (2.10.0)\n",
            "Requirement already satisfied: numpy>=1.9.1 in /usr/local/lib/python3.6/dist-packages (from keras) (1.18.5)\n",
            "Requirement already satisfied: keras-applications>=1.0.6 in /usr/local/lib/python3.6/dist-packages (from keras) (1.0.8)\n",
            "Requirement already satisfied: scipy>=0.14 in /usr/local/lib/python3.6/dist-packages (from keras) (1.4.1)\n",
            "Requirement already satisfied: keras-preprocessing>=1.0.5 in /usr/local/lib/python3.6/dist-packages (from keras) (1.1.2)\n",
            "Requirement already satisfied: sklearn in /usr/local/lib/python3.6/dist-packages (0.0)\n",
            "Requirement already satisfied: scikit-learn in /usr/local/lib/python3.6/dist-packages (from sklearn) (0.22.2.post1)\n",
            "Requirement already satisfied: joblib>=0.11 in /usr/local/lib/python3.6/dist-packages (from scikit-learn->sklearn) (0.16.0)\n",
            "Requirement already satisfied: numpy>=1.11.0 in /usr/local/lib/python3.6/dist-packages (from scikit-learn->sklearn) (1.18.5)\n",
            "Requirement already satisfied: scipy>=0.17.0 in /usr/local/lib/python3.6/dist-packages (from scikit-learn->sklearn) (1.4.1)\n",
            "Requirement already satisfied: tqdm in /usr/local/lib/python3.6/dist-packages (4.41.1)\n",
            "Requirement already satisfied: librosa in /usr/local/lib/python3.6/dist-packages (0.6.3)\n",
            "Requirement already satisfied: joblib>=0.12 in /usr/local/lib/python3.6/dist-packages (from librosa) (0.16.0)\n",
            "Requirement already satisfied: scipy>=1.0.0 in /usr/local/lib/python3.6/dist-packages (from librosa) (1.4.1)\n",
            "Requirement already satisfied: scikit-learn!=0.19.0,>=0.14.0 in /usr/local/lib/python3.6/dist-packages (from librosa) (0.22.2.post1)\n",
            "Requirement already satisfied: audioread>=2.0.0 in /usr/local/lib/python3.6/dist-packages (from librosa) (2.1.8)\n",
            "Requirement already satisfied: six>=1.3 in /usr/local/lib/python3.6/dist-packages (from librosa) (1.12.0)\n",
            "Requirement already satisfied: resampy>=0.2.0 in /usr/local/lib/python3.6/dist-packages (from librosa) (0.2.2)\n",
            "Requirement already satisfied: numba>=0.38.0 in /usr/local/lib/python3.6/dist-packages (from librosa) (0.48.0)\n",
            "Requirement already satisfied: decorator>=3.0.0 in /usr/local/lib/python3.6/dist-packages (from librosa) (4.4.2)\n",
            "Requirement already satisfied: numpy>=1.8.0 in /usr/local/lib/python3.6/dist-packages (from librosa) (1.18.5)\n",
            "Requirement already satisfied: llvmlite<0.32.0,>=0.31.0dev0 in /usr/local/lib/python3.6/dist-packages (from numba>=0.38.0->librosa) (0.31.0)\n",
            "Requirement already satisfied: setuptools in /usr/local/lib/python3.6/dist-packages (from numba>=0.38.0->librosa) (49.1.0)\n",
            "Reading package lists... Done\n",
            "Building dependency tree       \n",
            "Reading state information... Done\n",
            "libsndfile1 is already the newest version (1.0.28-4ubuntu0.18.04.1).\n",
            "The following package was automatically installed and is no longer required:\n",
            "  libnvidia-common-440\n",
            "Use 'apt autoremove' to remove it.\n",
            "0 upgraded, 0 newly installed, 0 to remove and 35 not upgraded.\n",
            "Reading package lists... Done\n",
            "Building dependency tree       \n",
            "Reading state information... Done\n",
            "git is already the newest version (1:2.17.1-1ubuntu0.7).\n",
            "The following package was automatically installed and is no longer required:\n",
            "  libnvidia-common-440\n",
            "Use 'apt autoremove' to remove it.\n",
            "0 upgraded, 0 newly installed, 0 to remove and 35 not upgraded.\n",
            "mkdir: cannot create directory ‘music-wav-files/clean’: No such file or directory\n",
            "mkdir: cannot create directory ‘music-wav-files/samples’: No such file or directory\n",
            "mkdir: cannot create directory ‘music-wav-files/models’: No such file or directory\n"
          ],
          "name": "stdout"
        }
      ]
    },
    {
      "cell_type": "code",
      "metadata": {
        "id": "nIVe0ORuiHyt",
        "colab_type": "code",
        "colab": {
          "base_uri": "https://localhost:8080/",
          "height": 34
        },
        "outputId": "d37d0081-b956-4b3e-cc06-db6ef5e33043"
      },
      "source": [
        "from google.colab import drive\n",
        "drive.mount('/content/gdrive')"
      ],
      "execution_count": 1,
      "outputs": [
        {
          "output_type": "stream",
          "text": [
            "Drive already mounted at /content/gdrive; to attempt to forcibly remount, call drive.mount(\"/content/gdrive\", force_remount=True).\n"
          ],
          "name": "stdout"
        }
      ]
    },
    {
      "cell_type": "code",
      "metadata": {
        "id": "GWOulvQGi8cW",
        "colab_type": "code",
        "colab": {}
      },
      "source": [
        "import os\n",
        "os.chdir('/content/gdrive/My Drive/music-wav-files')"
      ],
      "execution_count": 3,
      "outputs": []
    },
    {
      "cell_type": "code",
      "metadata": {
        "id": "DjASVfB_h9_z",
        "colab_type": "code",
        "colab": {
          "base_uri": "https://localhost:8080/",
          "height": 68
        },
        "outputId": "d0f7f926-0ffb-45f7-da89-a81a40251de4"
      },
      "source": [
        "!mkdir clean samples models"
      ],
      "execution_count": 10,
      "outputs": [
        {
          "output_type": "stream",
          "text": [
            "mkdir: cannot create directory ‘clean’: File exists\n",
            "mkdir: cannot create directory ‘samples’: File exists\n",
            "mkdir: cannot create directory ‘models’: File exists\n"
          ],
          "name": "stdout"
        }
      ]
    },
    {
      "cell_type": "code",
      "metadata": {
        "id": "JZP8e54UeCWK",
        "colab_type": "code",
        "colab": {}
      },
      "source": [
        "import matplotlib.pyplot as plt\n",
        "import pandas as pd\n",
        "import os\n",
        "import librosa\n",
        "import librosa.display\n",
        "from sklearn.model_selection import train_test_split\n",
        "from sklearn.preprocessing import LabelEncoder\n",
        "from keras.utils import to_categorical\n",
        "from scipy.io import wavfile as wav\n",
        "import numpy as np\n",
        "\n",
        "from datetime import datetime\n",
        "from keras.models import Sequential, load_model\n",
        "from keras.layers import Dense, Dropout, Activation, Flatten\n",
        "from keras.layers import Convolution2D, MaxPooling2D\n",
        "from keras.callbacks import ModelCheckpoint\n",
        "from keras.optimizers import Adam\n",
        "from keras.utils import np_utils\n",
        "from sklearn import metrics"
      ],
      "execution_count": 5,
      "outputs": []
    },
    {
      "cell_type": "code",
      "metadata": {
        "id": "Em3EH9FlujOA",
        "colab_type": "code",
        "colab": {}
      },
      "source": [
        "def extract_features(file_name):\n",
        "\n",
        "    try:\n",
        "        audio, sample_rate = librosa.load(file_name, res_type='kaiser_fast') \n",
        "\n",
        "        mask = envelope(audio, sample_rate, 0.0005)\n",
        "\n",
        "        mfccs = librosa.feature.mfcc(y=audio[mask], sr=sample_rate, n_mfcc=40)\n",
        "        mfccsscaled = np.mean(mfccs.T,axis=0)\n",
        "\n",
        "        #print(\"mfccsscaled\", mfccsscaled.shape)\n",
        "    \n",
        "    except Exception as e:\n",
        "        print(\"Error encountered while parsing file: \", file_name)\n",
        "        return None \n",
        "    \n",
        "    return mfccsscaled\n",
        "\n",
        "def envelope(y, rate, threshold):\n",
        "    mask = []\n",
        "    y = pd.Series(y).apply(np.abs)\n",
        "    y_mean = y.rolling(window=int(rate/10), min_periods=1, center=True).mean()\n",
        "    for mean in y_mean:\n",
        "        if mean > threshold:\n",
        "            mask.append(True)\n",
        "        else:\n",
        "            mask.append(False)\n",
        "    return mask"
      ],
      "execution_count": 6,
      "outputs": []
    },
    {
      "cell_type": "code",
      "metadata": {
        "id": "rsRSDpvOu1iw",
        "colab_type": "code",
        "colab": {
          "base_uri": "https://localhost:8080/",
          "height": 181
        },
        "outputId": "70f68a28-7666-4113-941b-5b9a2730029d"
      },
      "source": [
        ""
      ],
      "execution_count": 8,
      "outputs": [
        {
          "output_type": "error",
          "ename": "NameError",
          "evalue": "ignored",
          "traceback": [
            "\u001b[0;31m---------------------------------------------------------------------------\u001b[0m",
            "\u001b[0;31mNameError\u001b[0m                                 Traceback (most recent call last)",
            "\u001b[0;32m<ipython-input-8-177aebf07601>\u001b[0m in \u001b[0;36m<module>\u001b[0;34m()\u001b[0m\n\u001b[1;32m      1\u001b[0m \u001b[0;34m\u001b[0m\u001b[0m\n\u001b[0;32m----> 2\u001b[0;31m \u001b[0mprint\u001b[0m\u001b[0;34m(\u001b[0m\u001b[0mos\u001b[0m\u001b[0;34m.\u001b[0m\u001b[0mpath\u001b[0m\u001b[0;34m.\u001b[0m\u001b[0mjoin\u001b[0m\u001b[0;34m(\u001b[0m\u001b[0mos\u001b[0m\u001b[0;34m.\u001b[0m\u001b[0mpath\u001b[0m\u001b[0;34m.\u001b[0m\u001b[0mabspath\u001b[0m\u001b[0;34m(\u001b[0m\u001b[0mfulldatasetpath\u001b[0m\u001b[0;34m)\u001b[0m\u001b[0;34m,\u001b[0m \u001b[0mstr\u001b[0m\u001b[0;34m(\u001b[0m\u001b[0mrow\u001b[0m\u001b[0;34m[\u001b[0m\u001b[0;34m\"fname\"\u001b[0m\u001b[0;34m]\u001b[0m\u001b[0;34m)\u001b[0m\u001b[0;34m)\u001b[0m\u001b[0;34m)\u001b[0m\u001b[0;34m\u001b[0m\u001b[0;34m\u001b[0m\u001b[0m\n\u001b[0m",
            "\u001b[0;31mNameError\u001b[0m: name 'fulldatasetpath' is not defined"
          ]
        }
      ]
    },
    {
      "cell_type": "code",
      "metadata": {
        "id": "GYVFcvZPvYhF",
        "colab_type": "code",
        "colab": {}
      },
      "source": [
        "file_name = os.path.join(os.path.abspath(fulldatasetpath), str(row[\"fname\"]))\n",
        "class_label = row[\"label\"]\n",
        "data = extract_features('wavfiles/5eadbc6d.wav')\n"
      ],
      "execution_count": 19,
      "outputs": []
    },
    {
      "cell_type": "code",
      "metadata": {
        "id": "g2A-ZVPuujj-",
        "colab_type": "code",
        "colab": {
          "base_uri": "https://localhost:8080/",
          "height": 34
        },
        "outputId": "53c773e5-1531-43fd-bb67-e462dd1872ab"
      },
      "source": [
        "!ls "
      ],
      "execution_count": 14,
      "outputs": [
        {
          "output_type": "stream",
          "text": [
            "clean  instruments.csv\tmodel  models  pickles\tsamples  wavfiles\n"
          ],
          "name": "stdout"
        }
      ]
    },
    {
      "cell_type": "markdown",
      "metadata": {
        "id": "pLwC6kzQeCWQ",
        "colab_type": "text"
      },
      "source": [
        "# The following code was extracted from a module that was created to train a CNN model.  It will be called to retrain the model to improve accuracy as more data becomes available from the app.  "
      ]
    },
    {
      "cell_type": "code",
      "metadata": {
        "id": "0CjxI98keCWR",
        "colab_type": "code",
        "colab": {
          "base_uri": "https://localhost:8080/",
          "height": 918
        },
        "outputId": "b7327e7e-4722-45b7-f09b-4c50118b0a2d"
      },
      "source": [
        "fulldatasetpath = 'wavfiles/'\n",
        "\n",
        "metadata = pd.read_csv('instruments.csv')\n",
        "\n",
        "features = []\n",
        "\n",
        "# Iterate through each sound file and extract the features \n",
        "for index, row in metadata.iterrows():\n",
        "\n",
        "    file_name = os.path.join(os.path.abspath(fulldatasetpath), str(row[\"fname\"]))\n",
        "\n",
        "    class_label = row[\"label\"]\n",
        "    data = extract_features(file_name)\n",
        "    features.append([data, class_label])\n",
        "\n",
        "    # Convert into a Panda dataframe \n",
        "    featuresdf = pd.DataFrame(features, columns=['feature','class_label'])\n",
        "\n",
        "    #print('Finished feature extraction from ', len(featuresdf), ' files') \n",
        "\n",
        "\n",
        "# Convert features and corresponding classification labels into numpy arrays\n",
        "X = np.array(featuresdf.feature.tolist())\n",
        "y = np.array(featuresdf.class_label.tolist())\n",
        "\n",
        "# Encode the classification labels\n",
        "le = LabelEncoder()\n",
        "yy = to_categorical(le.fit_transform(y))\n",
        "\n",
        "# split the dataset \n",
        "x_train, x_test, y_train, y_test = train_test_split(X, yy, test_size=0.2, random_state = 42)\n",
        "\n",
        "num_labels = yy.shape[1]\n",
        "print(\"num_labels\", num_labels)\n",
        "filter_size = 2\n",
        "\n",
        "model = Sequential()\n",
        "model.add(Dense(256, input_shape=(40,)))\n",
        "model.add(Dense(256, activation='relu'))\n",
        "model.add(Dense(256, activation='relu'))\n",
        "model.add(Dense(256, activation='relu'))\n",
        "model.add(Dense(num_labels, activation='softmax'))\n",
        "\n",
        "# Compile the model\n",
        "model.compile(loss='categorical_crossentropy', metrics=['accuracy'], optimizer='adam') \n",
        "\n",
        "# Display model architecture summary \n",
        "model.summary()\n",
        "\n",
        "# Calculate pre-training accuracy \n",
        "score = model.evaluate(x_test, y_test, verbose=0)\n",
        "accuracy = 100*score[1]\n",
        "\n",
        "print(\"Pre-training accuracy: %.4f%%\" % accuracy)\n",
        "\n",
        "num_epochs = 15\n",
        "num_batch_size = 8\n",
        "\n",
        "start = datetime.now()\n",
        "\n",
        "#callbacks=[checkpointer],\n",
        "model.fit(x_train, y_train, batch_size=num_batch_size, epochs=num_epochs, validation_data=(x_test, y_test),  verbose=1)\n",
        "model.save('models/model4.h5')\n",
        "\n",
        "duration = datetime.now() - start\n",
        "print(\"Training completed in time: \", duration)\n",
        "\n",
        "# Evaluating the model on the training and testing set\n",
        "score = model.evaluate(x_train, y_train, verbose=0)\n",
        "print(\"Training Accuracy: \", score[1])\n",
        "\n",
        "score = model.evaluate(x_test, y_test, verbose=0)\n",
        "print(\"Testing Accuracy: \", score[1])"
      ],
      "execution_count": 13,
      "outputs": [
        {
          "output_type": "stream",
          "text": [
            "num_labels 11\n",
            "Model: \"sequential_1\"\n",
            "_________________________________________________________________\n",
            "Layer (type)                 Output Shape              Param #   \n",
            "=================================================================\n",
            "dense_5 (Dense)              (None, 256)               10496     \n",
            "_________________________________________________________________\n",
            "dense_6 (Dense)              (None, 256)               65792     \n",
            "_________________________________________________________________\n",
            "dense_7 (Dense)              (None, 256)               65792     \n",
            "_________________________________________________________________\n",
            "dense_8 (Dense)              (None, 256)               65792     \n",
            "_________________________________________________________________\n",
            "dense_9 (Dense)              (None, 11)                2827      \n",
            "=================================================================\n",
            "Total params: 210,699\n",
            "Trainable params: 210,699\n",
            "Non-trainable params: 0\n",
            "_________________________________________________________________\n",
            "Pre-training accuracy: 14.5161%\n",
            "Epoch 1/15\n",
            "31/31 [==============================] - 0s 4ms/step - loss: 11.4012 - accuracy: 0.1878 - val_loss: 2.2959 - val_accuracy: 0.3387\n",
            "Epoch 2/15\n",
            "31/31 [==============================] - 0s 3ms/step - loss: 2.3935 - accuracy: 0.4082 - val_loss: 2.1720 - val_accuracy: 0.4839\n",
            "Epoch 3/15\n",
            "31/31 [==============================] - 0s 3ms/step - loss: 1.5780 - accuracy: 0.5510 - val_loss: 1.5811 - val_accuracy: 0.4516\n",
            "Epoch 4/15\n",
            "31/31 [==============================] - 0s 3ms/step - loss: 1.0381 - accuracy: 0.6694 - val_loss: 1.9391 - val_accuracy: 0.5000\n",
            "Epoch 5/15\n",
            "31/31 [==============================] - 0s 3ms/step - loss: 0.9515 - accuracy: 0.6816 - val_loss: 1.5238 - val_accuracy: 0.5484\n",
            "Epoch 6/15\n",
            "31/31 [==============================] - 0s 3ms/step - loss: 1.1124 - accuracy: 0.6408 - val_loss: 2.0706 - val_accuracy: 0.5323\n",
            "Epoch 7/15\n",
            "31/31 [==============================] - 0s 4ms/step - loss: 1.0178 - accuracy: 0.7143 - val_loss: 1.2684 - val_accuracy: 0.7258\n",
            "Epoch 8/15\n",
            "31/31 [==============================] - 0s 3ms/step - loss: 0.7071 - accuracy: 0.7755 - val_loss: 1.3244 - val_accuracy: 0.5484\n",
            "Epoch 9/15\n",
            "31/31 [==============================] - 0s 3ms/step - loss: 0.7304 - accuracy: 0.7469 - val_loss: 2.0780 - val_accuracy: 0.5323\n",
            "Epoch 10/15\n",
            "31/31 [==============================] - 0s 3ms/step - loss: 0.6408 - accuracy: 0.8041 - val_loss: 1.4969 - val_accuracy: 0.5968\n",
            "Epoch 11/15\n",
            "31/31 [==============================] - 0s 3ms/step - loss: 0.6349 - accuracy: 0.7796 - val_loss: 1.2209 - val_accuracy: 0.6774\n",
            "Epoch 12/15\n",
            "31/31 [==============================] - 0s 3ms/step - loss: 0.5196 - accuracy: 0.8122 - val_loss: 1.5443 - val_accuracy: 0.6452\n",
            "Epoch 13/15\n",
            "31/31 [==============================] - 0s 3ms/step - loss: 0.5898 - accuracy: 0.8122 - val_loss: 1.9537 - val_accuracy: 0.5968\n",
            "Epoch 14/15\n",
            "31/31 [==============================] - 0s 3ms/step - loss: 0.6668 - accuracy: 0.7755 - val_loss: 1.3214 - val_accuracy: 0.6290\n",
            "Epoch 15/15\n",
            "31/31 [==============================] - 0s 3ms/step - loss: 0.5147 - accuracy: 0.8531 - val_loss: 1.3808 - val_accuracy: 0.6452\n",
            "Training completed in time:  0:00:02.059935\n",
            "Training Accuracy:  0.9265305995941162\n",
            "Testing Accuracy:  0.6451612710952759\n"
          ],
          "name": "stdout"
        }
      ]
    },
    {
      "cell_type": "code",
      "metadata": {
        "id": "QqyPXU1UeCWU",
        "colab_type": "code",
        "colab": {}
      },
      "source": [
        "def classify(filename):\n",
        "    \n",
        "    model = load_model('models/model4.h5')\n",
        "\n",
        "    def extract_feature(file_name):\n",
        "   \n",
        "        try:\n",
        "            audio_data, sample_rate = librosa.load(file_name, res_type='kaiser_fast') \n",
        "            mfccs = librosa.feature.mfcc(y=audio_data, sr=sample_rate, n_mfcc=40)\n",
        "            mfccsscaled = np.mean(mfccs.T,axis=0)\n",
        "            \n",
        "        except Exception as e:\n",
        "            print(\"Error encountered while parsing file: \", file_name)\n",
        "            return None, None\n",
        "        return np.array([mfccsscaled])\n",
        "\n",
        "    #Get class labels for predicted_instrument output\n",
        "    le = LabelEncoder()\n",
        "    metadata = pd.read_csv('instruments.csv')\n",
        "    le.fit(metadata['label'])\n",
        "\n",
        "    def print_prediction(file_name):\n",
        "  \n",
        "        prediction_feature = extract_feature(file_name) \n",
        "\n",
        "        predicted_vector = model.predict_classes(prediction_feature)\n",
        "        #print(\"predicted_vector\", predicted_vector)\n",
        "\n",
        "        predicted_class = le.inverse_transform(predicted_vector)\n",
        "        predicted_instrument = predicted_class[0]\n",
        "        #print(\"The predicted class is:\", predicted_class[0], '\\n') \n",
        "\n",
        "        predicted_proba_vector = model.predict_proba(prediction_feature) \n",
        "        predicted_proba = predicted_proba_vector[0]\n",
        "        for i in range(len(predicted_proba)):\n",
        "            category = le.inverse_transform(np.array([i]))\n",
        "            #print(category[0], \"\\t\\t : \", format(predicted_proba[i], '.32f') )\n",
        "            \n",
        "        return predicted_instrument\n",
        "    \n",
        "    return print_prediction(filename)\n",
        "    \n"
      ],
      "execution_count": 52,
      "outputs": []
    },
    {
      "cell_type": "markdown",
      "metadata": {
        "id": "9lQi3a9jeCWc",
        "colab_type": "text"
      },
      "source": [
        "# The following code was extracted from the unit tests we created."
      ]
    },
    {
      "cell_type": "code",
      "metadata": {
        "id": "UxMdAf7JeCWd",
        "colab_type": "code",
        "colab": {}
      },
      "source": [
        "def predictedInstrumentTest(filename, instrument):\n",
        "\n",
        "    predicted_instrument = classify(filename)\n",
        "    print(\"The predicted instrument is\", predicted_instrument, \". The actual instrument is\", instrument, \".\")\n",
        "    if (instrument.strip() == predicted_instrument.strip()):\n",
        "        print(\"Test passed!!!\")\n",
        "    else:\n",
        "        print(\"Test Failed\")"
      ],
      "execution_count": 63,
      "outputs": []
    },
    {
      "cell_type": "code",
      "metadata": {
        "id": "6gepjtbszHVn",
        "colab_type": "code",
        "colab": {
          "base_uri": "https://localhost:8080/",
          "height": 1000
        },
        "outputId": "9240505a-5532-402d-d39f-823283faf53c"
      },
      "source": [
        "!ls wavfiles"
      ],
      "execution_count": 20,
      "outputs": [
        {
          "output_type": "stream",
          "text": [
            " 00353774.wav\t\t      88780eac.wav\n",
            " 0091fc7f.wav\t\t      8916ffcd.wav\n",
            " 01c2f88b.wav\t\t      8986cced.wav\n",
            " 0286fc27.wav\t\t      8b6a16de.wav\n",
            " 0356dec7.wav\t\t      8cd809d3.wav\n",
            " 03fc1f96.wav\t\t      8ce2e863.wav\n",
            " 06c48eab.wav\t\t      8d7d7dba.wav\n",
            " 078f7ac0.wav\t\t      8da75280.wav\n",
            " 07db7f16.wav\t\t      8ee44fb5.wav\n",
            " 09a1cfd7.wav\t\t      8fa096bf.wav\n",
            " 0c67f402.wav\t\t      921eee9d.wav\n",
            " 0ddb4bdf.wav\t\t      9320c55f.wav\n",
            " 0e7cd4eb.wav\t\t      95e1d0ae.wav\n",
            " 0ed06544.wav\t\t      96dad435.wav\n",
            " 0eeaebcb.wav\t\t      9923ddf8.wav\n",
            " 103f29e5.wav\t\t      99c96a07.wav\n",
            " 10da16fb.wav\t\t      9a4bfb69.wav\n",
            " 1148986e.wav\t\t      9a722e53.wav\n",
            " 125e6ccf.wav\t\t      9adffd44.wav\n",
            " 13da16ae.wav\t\t      9c0838c1.wav\n",
            " 160c92d7.wav\t\t      9cd05a2b.wav\n",
            " 16c9a838.wav\t\t      9d308738.wav\n",
            " 17f82c05.wav\t\t      9dd0141c.wav\n",
            " 18865530.wav\t\t      9e3bc1b6.wav\n",
            " 19105b8a.wav\t\t      9f522cda.wav\n",
            " 195f544d.wav\t\t      9f6eac9c.wav\n",
            " 1980s-Casio-Trumpet-C5.wav   9f84ea5a.wav\n",
            " 19893aa8.wav\t\t      a053797b.wav\n",
            " 1a7d3f2d.wav\t\t      a090c45a.wav\n",
            " 1b24c166.wav\t\t      a0cbe92e.wav\n",
            " 1b93aeba.wav\t\t      a1b369d7.wav\n",
            " 1bc8eae1.wav\t\t      a25423a8.wav\n",
            " 1c9a423f.wav\t\t      a59b5a08.wav\n",
            " 1e3391d5.wav\t\t      a64a3740.wav\n",
            " 1f81cc2b.wav\t\t      a6728901.wav\n",
            " 2016d256.wav\t\t      a7964699.wav\n",
            " 2032be87.wav\t\t      aa9ae956.wav\n",
            " 21346775.wav\t\t      aab28420.wav\n",
            " 229be2be.wav\t\t      ab465bf9.wav\n",
            " 22bea889.wav\t\t      ab8e8ae3.wav\n",
            " 22e1c02c.wav\t\t      ac097834.wav\n",
            " 236cbab1.wav\t\t      ad42e493.wav\n",
            " 238b16a5.wav\t\t      ad7ec8cb.wav\n",
            " 2424ad60.wav\t\t      ae7d1c37.wav\n",
            " 2503aaa1.wav\t\t      aed9d22f.wav\n",
            " 25f26095.wav\t\t      af227d6f.wav\n",
            " 2ac8b94f.wav\t\t      b0c06255.wav\n",
            " 2cc8683d.wav\t\t      b0d9849d.wav\n",
            " 2da9e12a.wav\t\t      b120dc90.wav\n",
            " 2e1cd085.wav\t\t      b218444c.wav\n",
            " 2e4a9850.wav\t\t      b2261238.wav\n",
            " 2f9c5f62.wav\t\t      b31ed1fb.wav\n",
            " 2fc00271.wav\t\t      b38409bb.wav\n",
            " 31db8c5e.wav\t\t      b428466c.wav\n",
            " 31dbc5c0.wav\t\t      b4b2b68d.wav\n",
            " 32dee61b.wav\t\t      b68f10af.wav\n",
            " 34747922.wav\t\t     'b6cbc6a9 (1).wav'\n",
            " 34a90030.wav\t\t      b6cbc6a9.wav\n",
            " 34e4d187.wav\t\t      b73c3595.wav\n",
            " 35039ae1.wav\t\t      b83049f4.wav\n",
            " 35e97db3.wav\t\t      b86b5a96.wav\n",
            " 367ad7b1.wav\t\t      b88322f6.wav\n",
            " 36d06cc0.wav\t\t      b8c0a88a.wav\n",
            " 36d20ab5.wav\t\t      ba648ac1.wav\n",
            " 3707da71.wav\t\t      bab98261.wav\n",
            " 37cebbd4.wav\t\t      bb1f5874.wav\n",
            " 38216fad.wav\t\t      bea51ca5.wav\n",
            " 3a3d0279.wav\t\t      c0ddf010.wav\n",
            " 3a80061f.wav\t\t      c11bacda.wav\n",
            " 3a9085ca.wav\t\t      c153f347.wav\n",
            " 3aafb6ad.wav\t\t      c1948f24.wav\n",
            " 3c66098d.wav\t\t      c1c3c8b9.wav\n",
            " 3c713bcf.wav\t\t      c40632d7.wav\n",
            " 3cbe9902.wav\t\t      c53a217e.wav\n",
            " 3d3439f1.wav\t\t      c683f28f.wav\n",
            " 3e2bddda.wav\t\t      c685f05f.wav\n",
            " 3eaddda8.wav\t\t      c6865306.wav\n",
            " 3f7e6da8.wav\t\t      c7846d27.wav\n",
            " 41897c32.wav\t\t      c840804f.wav\n",
            " 4345851e.wav\t\t      c8c117dc.wav\n",
            " 444f9db5.wav\t\t      c8ecbbfd.wav\n",
            " 44c5094c.wav\t\t      c9fb642d.wav\n",
            " 44fb3eeb.wav\t\t      ca348cbb.wav\n",
            " 45de3233.wav\t\t      ca3f3698.wav\n",
            " 462b676f.wav\t\t      ca8653d2.wav\n",
            " 468f9c4c.wav\t\t      cae0d841.wav\n",
            " 46b52f97.wav\t\t      cbc8d551.wav\n",
            " 493c247b.wav\t\t      cdc5fe8e.wav\n",
            " 4ba2b70e.wav\t\t      cdeece57.wav\n",
            " 4bcc8a77.wav\t\t      cdfc8967.wav\n",
            " 4bff8f32.wav\t\t      ce3f3400.wav\n",
            " 4c4d4797.wav\t\t      ce65d6b5.wav\n",
            " 4c590f69.wav\t\t      ce75b5ce.wav\n",
            " 4fb480bf.wav\t\t      cfb9c5fd.wav\n",
            " 4fd883bb.wav\t\t      d14f5df1.wav\n",
            " 52300f9b.wav\t\t      d328db67.wav\n",
            " 52e54bdd.wav\t\t      d6144e01.wav\n",
            " 5388d14d.wav\t\t      d6665734.wav\n",
            " 5506629f.wav\t\t      d6854eb4.wav\n",
            " 55822aae.wav\t\t      d84c8c43.wav\n",
            " 55d52a69.wav\t\t      d8a257e5.wav\n",
            " 562d93f5.wav\t\t      d914225a.wav\n",
            " 565f3ee2.wav\t\t      d94c94f0.wav\n",
            " 5689818f.wav\t\t      da3f8050.wav\n",
            " 56e79c6f.wav\t\t      da4b0379.wav\n",
            " 595c191d.wav\t\t      da8ea649.wav\n",
            " 5c33d972.wav\t\t      dba6817d.wav\n",
            " 5ce40b1b.wav\t\t      dc5be9d7.wav\n",
            " 5d040c3b.wav\t\t      dc6676ff.wav\n",
            " 5d4f8187.wav\t\t      dc981a38.wav\n",
            " 5d73ee6f.wav\t\t      ddf23920.wav\n",
            " 5de123c3.wav\t\t      deb87700.wav\n",
            " 5e5bca7a.wav\t\t      e0ecd1a6.wav\n",
            " 5eadbc6d.wav\t\t      e2d993ec.wav\n",
            " 5ec7ad26.wav\t\t      e3f479f3.wav\n",
            " 5f0dc8e4.wav\t\t      e43f7db2.wav\n",
            " 612702c3.wav\t\t      e4958adc.wav\n",
            " 61c914b1.wav\t\t      e51e1770.wav\n",
            " 63e0ab2c.wav\t\t      e55c5160.wav\n",
            " 642aba58.wav\t\t      e6597186.wav\n",
            " 642ad7e4.wav\t\t      e70c41d4.wav\n",
            " 673defaf.wav\t\t      e897db78.wav\n",
            " 68589f79.wav\t\t      e8e00924.wav\n",
            " 6a037ddf.wav\t\t      e92bf0fa.wav\n",
            " 6a210ffa.wav\t\t      e97d9707.wav\n",
            " 6a96272b.wav\t\t      ec6afeb6.wav\n",
            " 6b27a847.wav\t\t      f042282c.wav\n",
            " 6d21ad67.wav\t\t      f0727eac.wav\n",
            " 6eb59008.wav\t\t      f0d315bc.wav\n",
            " 6ef82473.wav\t\t      f0dfe343.wav\n",
            " 6efbaf90.wav\t\t      f1754aea.wav\n",
            " 6fca680b.wav\t\t      f2310f0d.wav\n",
            " 70ca9c77.wav\t\t      f26131d8.wav\n",
            " 71c6451f.wav\t\t      f5e20dce.wav\n",
            " 7352e28f.wav\t\t      f63f3703.wav\n",
            " 73677128.wav\t\t      f8a99b37.wav\n",
            " 740e5bb7.wav\t\t      f8d96888.wav\n",
            " 743ae0f9.wav\t\t      f9653de8.wav\n",
            " 7506dcc4.wav\t\t      fa32109e.wav\n",
            " 78a86075.wav\t\t      fa4d4a92.wav\n",
            " 7b6a119e.wav\t\t      fc55d588.wav\n",
            " 7d11b3b4.wav\t\t      fcfafbc8.wav\n",
            " 7d896090.wav\t\t      fe76c972.wav\n",
            " 7dda9dc2.wav\t\t      fec00143.wav\n",
            " 7eb959ec.wav\t\t      ff11628d.wav\n",
            " 7eb9dac0.wav\t\t      ff3f21e7.wav\n",
            " 800b401e.wav\t\t      g_flat_mono.wav\n",
            " 8073923c.wav\t\t      g_flat_real_mono.wav\n",
            " 809ea09e.wav\t\t      g_flat_stereo.wav\n",
            " 811bf309.wav\t\t      g_natural_mono.wav\n",
            " 81d9f077.wav\t\t      g_natural_real_mono.wav\n",
            " 82d4fb44.wav\t\t      g_sharp_mono.wav\n",
            " 848faca3.wav\t\t     'g_sharp_real - 9_12_19, 5.47 PM.wav'\n",
            " 84f5b84b.wav\t\t      g_sharp_real_mono.wav\n",
            " 85d6a7d2.wav\t\t      Roland-GR-1-Trumpet-C5.wav\n",
            " 88500b88.wav\t\t      trumpet_A4_15_fortissimo_normal.wav\n"
          ],
          "name": "stdout"
        }
      ]
    },
    {
      "cell_type": "code",
      "metadata": {
        "id": "8mIkD6ePeCWi",
        "colab_type": "code",
        "colab": {
          "base_uri": "https://localhost:8080/",
          "height": 802
        },
        "outputId": "1dd69b8f-603a-44f7-9e70-918f32f2bcbc"
      },
      "source": [
        "for file_name in os.listdir('trumpets'):\n",
        "  predictedInstrumentTest('trumpets/' + file_name, 'trumpet')"
      ],
      "execution_count": 64,
      "outputs": [
        {
          "output_type": "stream",
          "text": [
            "WARNING:tensorflow:6 out of the last 11 calls to <function Model.make_predict_function.<locals>.predict_function at 0x7f28763e9620> triggered tf.function retracing. Tracing is expensive and the excessive number of tracings could be due to (1) creating @tf.function repeatedly in a loop, (2) passing tensors with different shapes, (3) passing Python objects instead of tensors. For (1), please define your @tf.function outside of the loop. For (2), @tf.function has experimental_relax_shapes=True option that relaxes argument shapes that can avoid unnecessary retracing. For (3), please refer to https://www.tensorflow.org/tutorials/customization/performance#python_or_tensor_args and https://www.tensorflow.org/api_docs/python/tf/function for  more details.\n",
            "The predicted instrument is Saxophone . The actual instrument is trumpet .\n",
            "#########\n",
            "trumpet Saxophone\n",
            "Test Failed\n",
            "WARNING:tensorflow:6 out of the last 11 calls to <function Model.make_predict_function.<locals>.predict_function at 0x7f28819a8048> triggered tf.function retracing. Tracing is expensive and the excessive number of tracings could be due to (1) creating @tf.function repeatedly in a loop, (2) passing tensors with different shapes, (3) passing Python objects instead of tensors. For (1), please define your @tf.function outside of the loop. For (2), @tf.function has experimental_relax_shapes=True option that relaxes argument shapes that can avoid unnecessary retracing. For (3), please refer to https://www.tensorflow.org/tutorials/customization/performance#python_or_tensor_args and https://www.tensorflow.org/api_docs/python/tf/function for  more details.\n",
            "The predicted instrument is  trumpet . The actual instrument is trumpet .\n",
            "#########\n",
            "trumpet  trumpet\n",
            "Test passed!!!\n",
            "WARNING:tensorflow:6 out of the last 11 calls to <function Model.make_predict_function.<locals>.predict_function at 0x7f288db8c378> triggered tf.function retracing. Tracing is expensive and the excessive number of tracings could be due to (1) creating @tf.function repeatedly in a loop, (2) passing tensors with different shapes, (3) passing Python objects instead of tensors. For (1), please define your @tf.function outside of the loop. For (2), @tf.function has experimental_relax_shapes=True option that relaxes argument shapes that can avoid unnecessary retracing. For (3), please refer to https://www.tensorflow.org/tutorials/customization/performance#python_or_tensor_args and https://www.tensorflow.org/api_docs/python/tf/function for  more details.\n",
            "The predicted instrument is Saxophone . The actual instrument is trumpet .\n",
            "#########\n",
            "trumpet Saxophone\n",
            "Test Failed\n",
            "WARNING:tensorflow:6 out of the last 11 calls to <function Model.make_predict_function.<locals>.predict_function at 0x7f28840921e0> triggered tf.function retracing. Tracing is expensive and the excessive number of tracings could be due to (1) creating @tf.function repeatedly in a loop, (2) passing tensors with different shapes, (3) passing Python objects instead of tensors. For (1), please define your @tf.function outside of the loop. For (2), @tf.function has experimental_relax_shapes=True option that relaxes argument shapes that can avoid unnecessary retracing. For (3), please refer to https://www.tensorflow.org/tutorials/customization/performance#python_or_tensor_args and https://www.tensorflow.org/api_docs/python/tf/function for  more details.\n",
            "The predicted instrument is Flute . The actual instrument is trumpet .\n",
            "#########\n",
            "trumpet Flute\n",
            "Test Failed\n",
            "WARNING:tensorflow:6 out of the last 11 calls to <function Model.make_predict_function.<locals>.predict_function at 0x7f2882351510> triggered tf.function retracing. Tracing is expensive and the excessive number of tracings could be due to (1) creating @tf.function repeatedly in a loop, (2) passing tensors with different shapes, (3) passing Python objects instead of tensors. For (1), please define your @tf.function outside of the loop. For (2), @tf.function has experimental_relax_shapes=True option that relaxes argument shapes that can avoid unnecessary retracing. For (3), please refer to https://www.tensorflow.org/tutorials/customization/performance#python_or_tensor_args and https://www.tensorflow.org/api_docs/python/tf/function for  more details.\n",
            "The predicted instrument is Flute . The actual instrument is trumpet .\n",
            "#########\n",
            "trumpet Flute\n",
            "Test Failed\n",
            "WARNING:tensorflow:6 out of the last 11 calls to <function Model.make_predict_function.<locals>.predict_function at 0x7f288dafaf28> triggered tf.function retracing. Tracing is expensive and the excessive number of tracings could be due to (1) creating @tf.function repeatedly in a loop, (2) passing tensors with different shapes, (3) passing Python objects instead of tensors. For (1), please define your @tf.function outside of the loop. For (2), @tf.function has experimental_relax_shapes=True option that relaxes argument shapes that can avoid unnecessary retracing. For (3), please refer to https://www.tensorflow.org/tutorials/customization/performance#python_or_tensor_args and https://www.tensorflow.org/api_docs/python/tf/function for  more details.\n",
            "The predicted instrument is Saxophone . The actual instrument is trumpet .\n",
            "#########\n",
            "trumpet Saxophone\n",
            "Test Failed\n",
            "WARNING:tensorflow:6 out of the last 11 calls to <function Model.make_predict_function.<locals>.predict_function at 0x7f288d7df2f0> triggered tf.function retracing. Tracing is expensive and the excessive number of tracings could be due to (1) creating @tf.function repeatedly in a loop, (2) passing tensors with different shapes, (3) passing Python objects instead of tensors. For (1), please define your @tf.function outside of the loop. For (2), @tf.function has experimental_relax_shapes=True option that relaxes argument shapes that can avoid unnecessary retracing. For (3), please refer to https://www.tensorflow.org/tutorials/customization/performance#python_or_tensor_args and https://www.tensorflow.org/api_docs/python/tf/function for  more details.\n",
            "The predicted instrument is Saxophone . The actual instrument is trumpet .\n",
            "#########\n",
            "trumpet Saxophone\n",
            "Test Failed\n",
            "WARNING:tensorflow:6 out of the last 11 calls to <function Model.make_predict_function.<locals>.predict_function at 0x7f288db8fd08> triggered tf.function retracing. Tracing is expensive and the excessive number of tracings could be due to (1) creating @tf.function repeatedly in a loop, (2) passing tensors with different shapes, (3) passing Python objects instead of tensors. For (1), please define your @tf.function outside of the loop. For (2), @tf.function has experimental_relax_shapes=True option that relaxes argument shapes that can avoid unnecessary retracing. For (3), please refer to https://www.tensorflow.org/tutorials/customization/performance#python_or_tensor_args and https://www.tensorflow.org/api_docs/python/tf/function for  more details.\n",
            "The predicted instrument is  trumpet . The actual instrument is trumpet .\n",
            "#########\n",
            "trumpet  trumpet\n",
            "Test passed!!!\n",
            "WARNING:tensorflow:6 out of the last 11 calls to <function Model.make_predict_function.<locals>.predict_function at 0x7f288417f1e0> triggered tf.function retracing. Tracing is expensive and the excessive number of tracings could be due to (1) creating @tf.function repeatedly in a loop, (2) passing tensors with different shapes, (3) passing Python objects instead of tensors. For (1), please define your @tf.function outside of the loop. For (2), @tf.function has experimental_relax_shapes=True option that relaxes argument shapes that can avoid unnecessary retracing. For (3), please refer to https://www.tensorflow.org/tutorials/customization/performance#python_or_tensor_args and https://www.tensorflow.org/api_docs/python/tf/function for  more details.\n",
            "The predicted instrument is Saxophone . The actual instrument is trumpet .\n",
            "#########\n",
            "trumpet Saxophone\n",
            "Test Failed\n"
          ],
          "name": "stdout"
        }
      ]
    },
    {
      "cell_type": "code",
      "metadata": {
        "id": "_u4tkcEVeCWm",
        "colab_type": "code",
        "colab": {}
      },
      "source": [
        ""
      ],
      "execution_count": null,
      "outputs": []
    },
    {
      "cell_type": "code",
      "metadata": {
        "id": "zN8Xc5T9eCWt",
        "colab_type": "code",
        "colab": {}
      },
      "source": [
        ""
      ],
      "execution_count": null,
      "outputs": []
    }
  ]
}